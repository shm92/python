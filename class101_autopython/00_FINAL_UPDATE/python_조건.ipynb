{
 "cells": [
  {
   "cell_type": "markdown",
   "metadata": {},
   "source": [
    "# 파이썬 기본\n",
    "1. 데이터 타입, 변수, 그리고 출력\n",
    "2. **조건문**\n",
    "3. 반복문\n",
    "4. 함수\n",
    "\n",
    "> 프로그래밍 문법은 다양합니다. 처음에는 무조건 가장 초간단 문법만 익히고, 일단 익숙해지세요!"
   ]
  },
  {
   "cell_type": "markdown",
   "metadata": {},
   "source": [
    "## 조건문"
   ]
  },
  {
   "cell_type": "markdown",
   "metadata": {},
   "source": [
    "### 1. 조건에 따라 명령을 다르게 할 수 있습니다"
   ]
  },
  {
   "cell_type": "markdown",
   "metadata": {},
   "source": [
    "```python\n",
    "if 조건문:\n",
    "    실행문1\n",
    "    실행문2\n",
    "```\n",
    "\n",
    "> 조건이 맞을 때만 실행할 명령은 반드시 if 문보다 탭을 한칸 띄워서 작성해야 합니다."
   ]
  },
  {
   "cell_type": "markdown",
   "metadata": {},
   "source": [
    "### 조건문이란?\n",
    "\n",
    "- 결국 True 또는 False (Boolean) 을 의미함\n",
    "- 다음 중 True 인 것은?\n",
    "  - 1 > 2 (초과)\n",
    "  - 1 >= 2 (이상)\n",
    "  - 1 < 2 (미만)\n",
    "  - 1 <= 2 (이하)\n",
    "  - 1 != 2 (다르다!)\n",
    "  - 1 == 2 (같다!)"
   ]
  },
  {
   "cell_type": "markdown",
   "metadata": {},
   "source": [
    "### 변수와 함께 조건문을 사용합니다."
   ]
  },
  {
   "cell_type": "code",
   "execution_count": 1,
   "metadata": {
    "tags": []
   },
   "outputs": [
    {
     "name": "stdout",
     "output_type": "stream",
     "text": [
      "False\n",
      "False\n",
      "True\n",
      "True\n",
      "True\n",
      "False\n"
     ]
    }
   ],
   "source": [
    "data1 = 1\n",
    "data2 = 2\n",
    "print (data1 > data2)\n",
    "print (data1 >= data2)\n",
    "print (data1 < data2)\n",
    "print (data1 <= data2)\n",
    "print (data1 != data2)\n",
    "print (data1 == data2)"
   ]
  },
  {
   "cell_type": "code",
   "execution_count": null,
   "metadata": {},
   "outputs": [],
   "source": [
    "if data1 > data2:\n",
    "    print ('미만입니다!')\n",
    "    print ('미만입니다!')    "
   ]
  },
  {
   "cell_type": "code",
   "execution_count": null,
   "metadata": {},
   "outputs": [],
   "source": [
    "if data1 > 10:\n",
    "    print ('미만입니다!')\n",
    "    print ('미만입니다!')\n",
    "print ('무조건 실행되는 문장입니다')"
   ]
  },
  {
   "cell_type": "markdown",
   "metadata": {},
   "source": [
    "### 조건이 맞으면 실행되는 코드와 안맞으면 실행되는 코드를 만들려면?\n",
    "```python\n",
    "if 조건문:\n",
    "    조건이 맞으면 실행할 코드\n",
    "else:\n",
    "    조건이 맞지 않으면 실행할 코드\n",
    "```"
   ]
  },
  {
   "cell_type": "code",
   "execution_count": null,
   "metadata": {},
   "outputs": [],
   "source": [
    "if data1 > 10:\n",
    "    print ('변수값은 10 이상입니다')\n",
    "else:\n",
    "    print ('변수값은 10 미만입니다')    "
   ]
  },
  {
   "cell_type": "markdown",
   "metadata": {},
   "source": [
    "<div class=\"alert alert-block\" style=\"border: 1px solid #FFB300;background-color:#F9FBE7;\">\n",
    "<font size=\"4em\" style=\"font-weight:bold;color:#3f8dbf;\">연습문제 (직접 해보신 후에, 영상으로 확인하세요!)</font><br>\n",
    "나이를 저장할 변수를 하나 만들고, 나이가 19 이상일 때는 어른입니다 를 출력, 19 미만일 때는 어린이입니다 를 출력하세요<br>\n",
    "</div>"
   ]
  },
  {
   "cell_type": "code",
   "execution_count": null,
   "metadata": {},
   "outputs": [],
   "source": [
    "data1 = 35\n",
    "if data1 >= 19:\n",
    "    print('어른입니다')\n",
    "else:\n",
    "    print('어린이입니다')\n",
    "    "
   ]
  },
  {
   "cell_type": "markdown",
   "metadata": {},
   "source": [
    "<div class=\"alert alert-block\" style=\"border: 1px solid #FFB300;background-color:#F9FBE7;\">\n",
    "<font size=\"4em\" style=\"font-weight:bold;color:#3f8dbf;\">연습문제 (직접 해보신 후에, 영상으로 확인하세요!)</font><br>\n",
    "173, 51 을 변수에 넣고, 두 변수를 곱한 값이 8000 을 넘으면 8000이 넘습니다, 넘지 않으면 8000을 넘지 않습니다 를 출력하는 코드를 조건문을 사용해서 작성하세요<br>\n",
    "조건문에 괄호가 있으면 괄호를 먼저 계산합니다. (산수와 마찬가지임) <br>\n",
    "예: (data1 * data2) > 8000 <br>\n",
    "</div>"
   ]
  },
  {
   "cell_type": "code",
   "execution_count": 1,
   "metadata": {},
   "outputs": [
    {
     "name": "stdout",
     "output_type": "stream",
     "text": [
      "8823\n",
      "8000이 넘습니다\n"
     ]
    }
   ],
   "source": [
    "data1 = 173\n",
    "data2 = 51\n",
    "\n",
    "if (data1 * data2) > 8000:\n",
    "    print (data1 * data2)\n",
    "    print ('8000이 넘습니다')\n",
    "else:\n",
    "    print ('8000이 넘지 않습니다')"
   ]
  },
  {
   "cell_type": "markdown",
   "metadata": {},
   "source": [
    "<div class=\"alert alert-block\" style=\"border: 1px solid #FFB300;background-color:#F9FBE7;\">\n",
    "<font size=\"4em\" style=\"font-weight:bold;color:#3f8dbf;\">연습문제 (직접 해보신 후에, 영상으로 확인하세요!)</font><br>\n",
    "173, 51 을 변수에 넣고, 두 변수를 곱한 값이 짝수이면 짝수입니다 홀수이면 홀수입니다 를 출력하는 코드를 조건문을 사용해서 작성하세요<br>\n",
    "참고: 짝수인지 홀수인지 확인하는 조건문 (% 는 나머지를 계산해주는 식) <br>\n",
    "4 % 2 = 0 <br>\n",
    "3 % 2 = 1 <br>\n",
    "</div>"
   ]
  },
  {
   "cell_type": "code",
   "execution_count": 3,
   "metadata": {},
   "outputs": [
    {
     "name": "stdout",
     "output_type": "stream",
     "text": [
      "홀수입니다\n"
     ]
    }
   ],
   "source": [
    "data1 = 173\n",
    "data2 = 51\n",
    "\n",
    "if (data1 * data2) % 2 == 0:\n",
    "    print (\"짝수입니다\")\n",
    "else:\n",
    "    print (\"홀수입니다\")"
   ]
  },
  {
   "cell_type": "code",
   "execution_count": null,
   "metadata": {},
   "outputs": [],
   "source": []
  }
 ],
 "metadata": {
  "kernelspec": {
   "display_name": "Python 3 (ipykernel)",
   "language": "python",
   "name": "python3"
  },
  "language_info": {
   "codemirror_mode": {
    "name": "ipython",
    "version": 3
   },
   "file_extension": ".py",
   "mimetype": "text/x-python",
   "name": "python",
   "nbconvert_exporter": "python",
   "pygments_lexer": "ipython3",
   "version": "3.11.5"
  }
 },
 "nbformat": 4,
 "nbformat_minor": 4
}
