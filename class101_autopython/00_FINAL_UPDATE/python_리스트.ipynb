{
 "cells": [
  {
   "cell_type": "markdown",
   "metadata": {},
   "source": [
    "# 파이썬 리스트\n",
    "\n",
    "> 연관있는 데이터를 다루기 위해, 파이썬은 리스트 라는 특별한 구조를 제공함\n",
    "\n",
    "- 프로그래밍 기본\n",
    "  1. 데이터 타입, 변수, 그리고 출력\n",
    "  2. 조건문\n",
    "  3. 반복문\n",
    "  4. 함수\n",
    "  \n",
    "- 파이썬 데이터 처리 기본\n",
    "  1. 파이썬 리스트(list)\n",
    "  \n",
    "> **입문자분들이 어려워하시는 3번째 관문입니다.** <br>\n",
    "> **너무 어려우시다면 1:1코칭으로 도와드리겠습니다.**"
   ]
  },
  {
   "cell_type": "markdown",
   "metadata": {},
   "source": [
    "## 리스트"
   ]
  },
  {
   "cell_type": "markdown",
   "metadata": {},
   "source": [
    "### 1. 연관있는 데이터를 다루는 데이터 구조\n",
    "- [  ] 안에 , 를 사용해서 데이터를 써넣으면 됨\n",
    "  - 예: datas1 = [1, 2, 'hello', 1.2]\n",
    "  \n",
    "> 리스트 변수는 구분을 위해 datas1, datas2 등으로 s를 붙이도록 합니다."
   ]
  },
  {
   "cell_type": "code",
   "execution_count": 4,
   "metadata": {},
   "outputs": [],
   "source": [
    "# 예: 1학년 1반 학습에 있는 학생 이름들\n",
    "datas1 = ['Dave Lee', 'Alex', '김태환']"
   ]
  },
  {
   "cell_type": "code",
   "execution_count": 3,
   "metadata": {},
   "outputs": [
    {
     "data": {
      "text/plain": [
       "['Dave Lee', 'Alex', '김태환']"
      ]
     },
     "execution_count": 3,
     "metadata": {},
     "output_type": "execute_result"
    }
   ],
   "source": [
    "datas1"
   ]
  },
  {
   "cell_type": "markdown",
   "metadata": {},
   "source": [
    "### 데이터를 특별한 구조로 다룰 때는 반드시 CRUD 방법을 익히시면 됩니다.\n",
    "- C: Create (리스트 데이터 생성)\n",
    "- R: Read (리스트 데이터 읽기)\n",
    "- U: Update (리스트 데이터 수정)\n",
    "- D: Delete (리스트 데이터 삭제)    "
   ]
  },
  {
   "cell_type": "markdown",
   "metadata": {},
   "source": [
    "### 리스트 데이터 생성 (Create)\n",
    "- 빈 리스트 데이터 생성\n",
    "    ```python\n",
    "    datas1 = list()\n",
    "    ```\n",
    "    \n",
    "- 데이터가 있는 리스트 데이터 생성\n",
    "    ```python\n",
    "    datas1 = [1, 2, 3]\n",
    "    ```\n",
    "\n",
    "- **데이터가 있는 리스트 데이터에 데이터 추가하기**\n",
    "    ```python\n",
    "    datas1.append(4)\n",
    "    ```\n"
   ]
  },
  {
   "cell_type": "markdown",
   "metadata": {},
   "source": [
    "### 리스트 데이터 읽기 (Read)\n",
    "- 리스트 데이터 맨 앞에서부터 인덱스 번호가 주어짐\n",
    "  - 인덱스 번호는 0번부터 시작함"
   ]
  },
  {
   "cell_type": "code",
   "execution_count": 10,
   "metadata": {},
   "outputs": [],
   "source": [
    "datas1 = ['Dave Lee', 'Alex', '김태환']"
   ]
  },
  {
   "cell_type": "code",
   "execution_count": 6,
   "metadata": {},
   "outputs": [
    {
     "data": {
      "text/plain": [
       "'Dave Lee'"
      ]
     },
     "execution_count": 6,
     "metadata": {},
     "output_type": "execute_result"
    }
   ],
   "source": [
    "datas1[0]"
   ]
  },
  {
   "cell_type": "code",
   "execution_count": 7,
   "metadata": {},
   "outputs": [
    {
     "data": {
      "text/plain": [
       "'Alex'"
      ]
     },
     "execution_count": 7,
     "metadata": {},
     "output_type": "execute_result"
    }
   ],
   "source": [
    "datas1[1]"
   ]
  },
  {
   "cell_type": "code",
   "execution_count": 9,
   "metadata": {},
   "outputs": [
    {
     "name": "stdout",
     "output_type": "stream",
     "text": [
      "김태환\n"
     ]
    }
   ],
   "source": [
    "# 전체 리스트 데이터 확인\n",
    "print (datas1[2])"
   ]
  },
  {
   "cell_type": "markdown",
   "metadata": {},
   "source": [
    "### 리스트 데이터 수정 (Update)\n",
    "- 리스트 데이터 각각을 인덱스 번호로 지정한 후, 변수처럼 새로 값을 넣으면 됨"
   ]
  },
  {
   "cell_type": "code",
   "execution_count": 11,
   "metadata": {},
   "outputs": [],
   "source": [
    "datas1[1] = 'Andy'"
   ]
  },
  {
   "cell_type": "markdown",
   "metadata": {},
   "source": [
    "### 리스트 데이터 삭제 (Delete)\n",
    "- 특이한 문법\n",
    "```python\n",
    "del 리스트데이터[인덱스번호]\n",
    "```"
   ]
  },
  {
   "cell_type": "code",
   "execution_count": 12,
   "metadata": {},
   "outputs": [],
   "source": [
    "del datas1[1]"
   ]
  },
  {
   "cell_type": "code",
   "execution_count": 14,
   "metadata": {},
   "outputs": [
    {
     "data": {
      "text/plain": [
       "'김태환'"
      ]
     },
     "execution_count": 14,
     "metadata": {},
     "output_type": "execute_result"
    }
   ],
   "source": [
    "datas1[1]"
   ]
  },
  {
   "cell_type": "markdown",
   "metadata": {},
   "source": [
    "### 패턴으로 익히기\n",
    "- 변수가 리스트 변수라면, 리스트 변수에 들어있는 각 데이터는 다음과 같이 사용합니다.\n",
    "\n",
    "```python\n",
    "for item in 리스트변수:\n",
    "    print(item)\n",
    "```"
   ]
  },
  {
   "cell_type": "code",
   "execution_count": 15,
   "metadata": {},
   "outputs": [
    {
     "name": "stdout",
     "output_type": "stream",
     "text": [
      "1\n",
      "2\n",
      "3\n"
     ]
    }
   ],
   "source": [
    "datas1 = [1, 2, 3]\n",
    "for item in datas1:\n",
    "    print (item)"
   ]
  },
  {
   "cell_type": "markdown",
   "metadata": {},
   "source": [
    "<div class=\"alert alert-block\" style=\"border: 1px solid #FFB300;background-color:#F9FBE7;\">\n",
    "<font size=\"4em\" style=\"font-weight:bold;color:#3f8dbf;\">연습문제 (직접 해보신 후에, 영상으로 확인하세요!)</font><br>\n",
    "다음 리스트 변수에 있는 각 데이터를 한 라인에 하나씩 출력하세요<br>\n",
    "datas1 = [\"fun\", \"coding\", \"Dave\", \"Lee\", \"업무\", \"자동화\"]<br>\n",
    "예:<br>\n",
    "    fun<br>\n",
    "    coding<br>\n",
    "    Dave<br>    \n",
    "</div>"
   ]
  },
  {
   "cell_type": "code",
   "execution_count": 17,
   "metadata": {},
   "outputs": [
    {
     "name": "stdout",
     "output_type": "stream",
     "text": [
      "fun\n",
      "coding\n",
      "Dave\n",
      "Lee\n",
      "업무\n",
      "자동화\n"
     ]
    }
   ],
   "source": [
    "datas1 = [\"fun\", \"coding\", \"Dave\", \"Lee\", \"업무\", \"자동화\"]\n",
    "for item in datas1:\n",
    "    print (item)"
   ]
  },
  {
   "cell_type": "markdown",
   "metadata": {},
   "source": [
    "<div class=\"alert alert-block\" style=\"border: 1px solid #FFB300;background-color:#F9FBE7;\">\n",
    "<font size=\"4em\" style=\"font-weight:bold;color:#3f8dbf;\">연습문제 (직접 해보신 후에, 영상으로 확인하세요!)</font><br>\n",
    "다음 리스트 변수에 있는 각 데이터에 2를 곱한 값을 한 라인에 하나씩 출력하세요<br>\n",
    "datas1 = [2, 4, 6, 8, 10]<br>\n",
    "예:<br>\n",
    "    4<br>\n",
    "    8<br>\n",
    "    12<br>    \n",
    "</div>"
   ]
  },
  {
   "cell_type": "code",
   "execution_count": 18,
   "metadata": {},
   "outputs": [
    {
     "name": "stdout",
     "output_type": "stream",
     "text": [
      "4\n",
      "8\n",
      "12\n",
      "16\n",
      "20\n"
     ]
    }
   ],
   "source": [
    "datas1 = [2, 4, 6, 8, 10]\n",
    "for item in datas1:\n",
    "    print (item * 2)"
   ]
  },
  {
   "cell_type": "markdown",
   "metadata": {},
   "source": [
    "<div class=\"alert alert-block\" style=\"border: 1px solid #FFB300;background-color:#F9FBE7;\">\n",
    "<font size=\"4em\" style=\"font-weight:bold;color:#3f8dbf;\">연습문제 (직접 해보신 후에, 영상으로 확인하세요!)</font><br>\n",
    "빈 리스트 변수를 만들고, 다음 데이터를 해당 리스트 변수에 append() 를 사용해서 추가하세요<br>\n",
    "2, 4, 6, 8, 10<br>\n",
    "예:<br>\n",
    "    [2, 4, 6, 8, 10]<br>\n",
    "</div>"
   ]
  },
  {
   "cell_type": "code",
   "execution_count": 19,
   "metadata": {},
   "outputs": [],
   "source": [
    "datas1 = list()\n",
    "\n",
    "datas1.append(2)\n",
    "datas1.append(4)\n",
    "datas1.append(6)\n",
    "datas1.append(8)\n",
    "datas1.append(10)"
   ]
  },
  {
   "cell_type": "code",
   "execution_count": 20,
   "metadata": {},
   "outputs": [
    {
     "data": {
      "text/plain": [
       "[2, 4, 6, 8, 10]"
      ]
     },
     "execution_count": 20,
     "metadata": {},
     "output_type": "execute_result"
    }
   ],
   "source": [
    "datas1"
   ]
  },
  {
   "cell_type": "code",
   "execution_count": null,
   "metadata": {},
   "outputs": [],
   "source": []
  }
 ],
 "metadata": {
  "kernelspec": {
   "display_name": "Python 3 (ipykernel)",
   "language": "python",
   "name": "python3"
  },
  "language_info": {
   "codemirror_mode": {
    "name": "ipython",
    "version": 3
   },
   "file_extension": ".py",
   "mimetype": "text/x-python",
   "name": "python",
   "nbconvert_exporter": "python",
   "pygments_lexer": "ipython3",
   "version": "3.11.5"
  }
 },
 "nbformat": 4,
 "nbformat_minor": 4
}
