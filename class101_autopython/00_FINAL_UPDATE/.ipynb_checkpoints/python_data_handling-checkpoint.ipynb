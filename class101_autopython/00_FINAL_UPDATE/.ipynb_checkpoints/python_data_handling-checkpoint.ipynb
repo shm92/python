{
 "cells": [
  {
   "cell_type": "markdown",
   "metadata": {},
   "source": [
    "### 데이터 구조와 데이터 다루기\n",
    "> 데이터를 다루기 위해, 이해가 필요한 추가 데이터 구조와 포맷이 있음"
   ]
  },
  {
   "cell_type": "markdown",
   "metadata": {},
   "source": [
    "### 1. 파이썬 튜플\n",
    "- 리스트와 같은 특별한 타입의 데이터 구조\n",
    "- 선언: () 괄호를 사용하며, 리스트처럼 내부에 아이템을 넣을 수 있음\n",
    "  - 선언 후, 추가, 삭제, 수정은 불가하므로, 선언시 미리 아이템을 넣어서 선언함\n",
    "  - 리스트처럼 아이템 간에는 콤마(,)로 구분\n",
    "```\n",
    "변수명 = (아이템1, 아이템2, ...)\n",
    "``` \n",
    "\n",
    "- 읽기: 리스트와 동일하게 인덱스 번호로 특정 아이템 선택 가능 (인덱스 번호는 리스트와 동일하게 0번부터 시작)\n",
    "\n",
    "```\n",
    "변수명[인덱스번호]\n",
    "```\n",
    "\n",
    "> 튜플은 많이 쓰이지 않지만, SQL 등을 처리할 때, 관련 부분이 나오므로, 본 강의에서 다른 데이터 구조와 함께 이해만 하기로 함"
   ]
  },
  {
   "cell_type": "code",
   "execution_count": 51,
   "metadata": {},
   "outputs": [
    {
     "name": "stdout",
     "output_type": "stream",
     "text": [
      "<class 'tuple'> (1, 2, 3, 4) 1\n"
     ]
    }
   ],
   "source": [
    "data = (1, 2, 3, 4)\n",
    "print (type(data), data, data[0])"
   ]
  },
  {
   "cell_type": "markdown",
   "metadata": {},
   "source": [
    "### 2. 파이썬 사전(Dictionary)"
   ]
  },
  {
   "cell_type": "markdown",
   "metadata": {},
   "source": [
    "- 리스트와 같은 특별한 타입의 데이터 구조 \n",
    "- 선언: {} 괄호를 사용하며, 리스트/튜플과 달리 하나의 아이템은 key 와 value 로 이루어져 있음\n",
    "  - 하나의 아이템은 key:value 로 {} 괄호 안에 넣을 수 있고, 아이템 간에는 콤마(,)로 구분\n",
    "\n",
    "```python\n",
    "변수명 = {key1:value1, key2:value2, ... }\n",
    "```\n",
    "\n",
    "  - 추가, 삭제, 수정이 가능하므로, 빈 사전으로 선언도 가능함\n",
    "  \n",
    "```python\n",
    "변수명 = {} 또는\n",
    "변수명 = dict() \n",
    "```"
   ]
  },
  {
   "cell_type": "code",
   "execution_count": 52,
   "metadata": {},
   "outputs": [],
   "source": [
    "data1 = {'name':'Dave Lee', 'age':20}"
   ]
  },
  {
   "cell_type": "code",
   "execution_count": 53,
   "metadata": {},
   "outputs": [
    {
     "data": {
      "text/plain": [
       "dict"
      ]
     },
     "execution_count": 53,
     "metadata": {},
     "output_type": "execute_result"
    }
   ],
   "source": [
    "type(data1)"
   ]
  },
  {
   "cell_type": "markdown",
   "metadata": {},
   "source": [
    "##### 사전 데이터 읽기 (특정 아이템 읽기)\n",
    "- 인덱스 번호 대신에, key 를 통해 key 에 해당하는 value 를 얻을 수 있음\n",
    "```python\n",
    "변수명[key1] \n",
    "```"
   ]
  },
  {
   "cell_type": "code",
   "execution_count": 54,
   "metadata": {},
   "outputs": [
    {
     "data": {
      "text/plain": [
       "'Dave Lee'"
      ]
     },
     "execution_count": 54,
     "metadata": {},
     "output_type": "execute_result"
    }
   ],
   "source": [
    "data1['name']"
   ]
  },
  {
   "cell_type": "code",
   "execution_count": 55,
   "metadata": {},
   "outputs": [
    {
     "data": {
      "text/plain": [
       "20"
      ]
     },
     "execution_count": 55,
     "metadata": {},
     "output_type": "execute_result"
    }
   ],
   "source": [
    "data1['age']"
   ]
  },
  {
   "cell_type": "markdown",
   "metadata": {},
   "source": [
    "##### 사전 데이터 추가 (아이템 추가)\n",
    "- 새로운 key 에 대입할 value 를 넣어주면 됨\n",
    "\n",
    "```python\n",
    "변수명[newkey] = newvalue\n",
    "```"
   ]
  },
  {
   "cell_type": "code",
   "execution_count": 56,
   "metadata": {},
   "outputs": [],
   "source": [
    "data1['hobby'] = 'coding'"
   ]
  },
  {
   "cell_type": "code",
   "execution_count": 57,
   "metadata": {},
   "outputs": [
    {
     "data": {
      "text/plain": [
       "{'name': 'Dave Lee', 'age': 20, 'hobby': 'coding'}"
      ]
     },
     "execution_count": 57,
     "metadata": {},
     "output_type": "execute_result"
    }
   ],
   "source": [
    "data1"
   ]
  },
  {
   "cell_type": "markdown",
   "metadata": {},
   "source": [
    "##### 사전 데이터 수정 (아이템 수정)\n",
    "- 기존 key 에 수정할(새로운) value 를 넣어주면 됨\n",
    "```python\n",
    "변수명[key] = newvalue\n",
    "```"
   ]
  },
  {
   "cell_type": "code",
   "execution_count": 58,
   "metadata": {},
   "outputs": [],
   "source": [
    "data1['hobby'] = 'programming'"
   ]
  },
  {
   "cell_type": "code",
   "execution_count": 59,
   "metadata": {},
   "outputs": [
    {
     "data": {
      "text/plain": [
       "{'name': 'Dave Lee', 'age': 20, 'hobby': 'programming'}"
      ]
     },
     "execution_count": 59,
     "metadata": {},
     "output_type": "execute_result"
    }
   ],
   "source": [
    "data1"
   ]
  },
  {
   "cell_type": "markdown",
   "metadata": {},
   "source": [
    "##### 사전 데이터 삭제 (아이템 삭제)\n",
    "- 삭제할 아이템의 key 를 다음과 같이 작성해서, 해당 아이템을 삭제할 수 있음\n",
    "```python\n",
    "del 변수명[key]\n",
    "```"
   ]
  },
  {
   "cell_type": "code",
   "execution_count": 60,
   "metadata": {},
   "outputs": [],
   "source": [
    "del data1['hobby']"
   ]
  },
  {
   "cell_type": "code",
   "execution_count": 61,
   "metadata": {},
   "outputs": [
    {
     "data": {
      "text/plain": [
       "{'name': 'Dave Lee', 'age': 20}"
      ]
     },
     "execution_count": 61,
     "metadata": {},
     "output_type": "execute_result"
    }
   ],
   "source": [
    "data1"
   ]
  },
  {
   "cell_type": "markdown",
   "metadata": {},
   "source": [
    "#### 사전 데이터 key 또는 value 만 각각 리스트로 가져오기"
   ]
  },
  {
   "cell_type": "code",
   "execution_count": 62,
   "metadata": {},
   "outputs": [],
   "source": [
    "data1 = {'name':'Dave Lee', 'age':20}"
   ]
  },
  {
   "cell_type": "code",
   "execution_count": 63,
   "metadata": {},
   "outputs": [
    {
     "data": {
      "text/plain": [
       "dict_keys(['name', 'age'])"
      ]
     },
     "execution_count": 63,
     "metadata": {},
     "output_type": "execute_result"
    }
   ],
   "source": [
    "data1.keys()"
   ]
  },
  {
   "cell_type": "code",
   "execution_count": 64,
   "metadata": {},
   "outputs": [
    {
     "data": {
      "text/plain": [
       "dict_values(['Dave Lee', 20])"
      ]
     },
     "execution_count": 64,
     "metadata": {},
     "output_type": "execute_result"
    }
   ],
   "source": [
    "data1.values()"
   ]
  },
  {
   "cell_type": "markdown",
   "metadata": {},
   "source": [
    "##### keys() 와 values() 값을 리스트로 바꾸려면 list() 함수를 쓰면 됨"
   ]
  },
  {
   "cell_type": "code",
   "execution_count": 65,
   "metadata": {},
   "outputs": [
    {
     "data": {
      "text/plain": [
       "['name', 'age']"
      ]
     },
     "execution_count": 65,
     "metadata": {},
     "output_type": "execute_result"
    }
   ],
   "source": [
    "list(data1.keys())"
   ]
  },
  {
   "cell_type": "code",
   "execution_count": 66,
   "metadata": {},
   "outputs": [
    {
     "data": {
      "text/plain": [
       "['Dave Lee', 20]"
      ]
     },
     "execution_count": 66,
     "metadata": {},
     "output_type": "execute_result"
    }
   ],
   "source": [
    "list(data1.values())"
   ]
  },
  {
   "cell_type": "markdown",
   "metadata": {},
   "source": [
    "### 3. 사전 데이터와 JSON"
   ]
  },
  {
   "cell_type": "markdown",
   "metadata": {},
   "source": [
    "#### JSON 이란?\n",
    "> 데이터를 처리하기 위한 다양한 데이터 포맷이 있음 (파이썬 안에서 제공하는 데이터 구조와는 다른 개념) <br>\n",
    "> 이 중에서도 JSON 은 프로그래밍/데이터에서도 가장 많이 다뤄지므로 개념을 이해하고 있어야 함 <br>\n",
    "> 걱정할 필요는 없음, JSON = 파이썬 사전 이라고 생각하면 됨\n",
    "\n",
    " - **J**avaScript **Ob**ject **N**otation 줄임말\n",
    " - JSON은 서버와 클라이언트 또는 컴퓨터/프로그램 사이에 데이터를 주고 받을 때 사용하는 데이터 포멧\n",
    " - 키와 값을 괄호와 세미콜론과 같이 간단한 기호로 구성하여 표현할 수 있고, 언어나 운영체제에 구애받지 않기 때문에 많이 사용됨\n",
    " - 특히 웹/앱 환경에서 Rest API를 사용하여, 서버와 클라이언트 사이에 데이터를 주고 받을때 많이 사용\n",
    " - JSON 포멧 예 <br>\n",
    " { \"id\":\"01\", \"language\": \"Java\", \"edition\": \"third\", \"author\": \"Herbert Schildt\" }"
   ]
  },
  {
   "cell_type": "markdown",
   "metadata": {},
   "source": [
    "### 4. 데이터 구조 활용을 위한 연습\n",
    "- 데이터를 다루기 위해, 가장 많이 쓰이는 파이썬 데이터 구조는 리스트와 사전\n",
    "- 리스트, 사전의 각 아이템은 또다른 리스트, 사전이 될 수 있음"
   ]
  },
  {
   "cell_type": "markdown",
   "metadata": {},
   "source": [
    "<div class=\"alert alert-block\" style=\"border: 1px solid #FFB300;background-color:#F9FBE7;\">\n",
    "<font size=\"3em\" style=\"font-weight:bold;color:#3f8dbf;\">예를 보여드리는 것으로, 익숙해지는데 시간이 걸립니다. <br>연습문제와 함께, 본 강의 전과정에 걸쳐서 다양한 적용 예를 보시면서, 익숙해진 것으로, 현재는 이런 문법이 된다는 부분만 이해하면 됩니다.</font><br>\n",
    "</div>    "
   ]
  },
  {
   "cell_type": "markdown",
   "metadata": {},
   "source": [
    "#### 리스트 예1"
   ]
  },
  {
   "cell_type": "code",
   "execution_count": 67,
   "metadata": {},
   "outputs": [],
   "source": [
    "data1 = ['Dave', [1, 2, 3], 3]"
   ]
  },
  {
   "cell_type": "code",
   "execution_count": 68,
   "metadata": {},
   "outputs": [
    {
     "data": {
      "text/plain": [
       "'Dave'"
      ]
     },
     "execution_count": 68,
     "metadata": {},
     "output_type": "execute_result"
    }
   ],
   "source": [
    "data1[0]"
   ]
  },
  {
   "cell_type": "code",
   "execution_count": 69,
   "metadata": {},
   "outputs": [
    {
     "data": {
      "text/plain": [
       "[1, 2, 3]"
      ]
     },
     "execution_count": 69,
     "metadata": {},
     "output_type": "execute_result"
    }
   ],
   "source": [
    "data1[1]"
   ]
  },
  {
   "cell_type": "code",
   "execution_count": 71,
   "metadata": {},
   "outputs": [
    {
     "data": {
      "text/plain": [
       "2"
      ]
     },
     "execution_count": 71,
     "metadata": {},
     "output_type": "execute_result"
    }
   ],
   "source": [
    "data1[1][1]"
   ]
  },
  {
   "cell_type": "markdown",
   "metadata": {},
   "source": [
    "#### 리스트 예2"
   ]
  },
  {
   "cell_type": "code",
   "execution_count": 72,
   "metadata": {},
   "outputs": [],
   "source": [
    "data1 = ['Dave', {'age':20, 'hobby':'coding'}]"
   ]
  },
  {
   "cell_type": "code",
   "execution_count": 73,
   "metadata": {},
   "outputs": [
    {
     "data": {
      "text/plain": [
       "'Dave'"
      ]
     },
     "execution_count": 73,
     "metadata": {},
     "output_type": "execute_result"
    }
   ],
   "source": [
    "data1[0]"
   ]
  },
  {
   "cell_type": "code",
   "execution_count": 74,
   "metadata": {},
   "outputs": [
    {
     "data": {
      "text/plain": [
       "{'age': 20, 'hobby': 'coding'}"
      ]
     },
     "execution_count": 74,
     "metadata": {},
     "output_type": "execute_result"
    }
   ],
   "source": [
    "data1[1]"
   ]
  },
  {
   "cell_type": "code",
   "execution_count": 26,
   "metadata": {},
   "outputs": [
    {
     "data": {
      "text/plain": [
       "20"
      ]
     },
     "execution_count": 26,
     "metadata": {},
     "output_type": "execute_result"
    }
   ],
   "source": [
    "data1[1]['age']"
   ]
  },
  {
   "cell_type": "code",
   "execution_count": 27,
   "metadata": {},
   "outputs": [
    {
     "data": {
      "text/plain": [
       "'coding'"
      ]
     },
     "execution_count": 27,
     "metadata": {},
     "output_type": "execute_result"
    }
   ],
   "source": [
    "data1[1]['hobby']"
   ]
  },
  {
   "cell_type": "markdown",
   "metadata": {},
   "source": [
    "#### 사전 예1"
   ]
  },
  {
   "cell_type": "code",
   "execution_count": 76,
   "metadata": {},
   "outputs": [],
   "source": [
    "data1 = {'name':'Dave', 'hobby':['python', 'pandas']}"
   ]
  },
  {
   "cell_type": "code",
   "execution_count": 77,
   "metadata": {},
   "outputs": [
    {
     "data": {
      "text/plain": [
       "'Dave'"
      ]
     },
     "execution_count": 77,
     "metadata": {},
     "output_type": "execute_result"
    }
   ],
   "source": [
    "data1['name']"
   ]
  },
  {
   "cell_type": "code",
   "execution_count": 78,
   "metadata": {},
   "outputs": [
    {
     "data": {
      "text/plain": [
       "['python', 'pandas']"
      ]
     },
     "execution_count": 78,
     "metadata": {},
     "output_type": "execute_result"
    }
   ],
   "source": [
    "data1['hobby']"
   ]
  },
  {
   "cell_type": "code",
   "execution_count": 80,
   "metadata": {},
   "outputs": [
    {
     "data": {
      "text/plain": [
       "'pandas'"
      ]
     },
     "execution_count": 80,
     "metadata": {},
     "output_type": "execute_result"
    }
   ],
   "source": [
    "data1['hobby'][1]"
   ]
  },
  {
   "cell_type": "markdown",
   "metadata": {},
   "source": [
    "#### 사전 예2"
   ]
  },
  {
   "cell_type": "code",
   "execution_count": 81,
   "metadata": {},
   "outputs": [],
   "source": [
    "data1 = {'name':'Dave', 'hobby':{'coding':['python', 'pandas']}}"
   ]
  },
  {
   "cell_type": "code",
   "execution_count": 82,
   "metadata": {},
   "outputs": [
    {
     "data": {
      "text/plain": [
       "'Dave'"
      ]
     },
     "execution_count": 82,
     "metadata": {},
     "output_type": "execute_result"
    }
   ],
   "source": [
    "data1['name']"
   ]
  },
  {
   "cell_type": "code",
   "execution_count": 83,
   "metadata": {},
   "outputs": [
    {
     "data": {
      "text/plain": [
       "{'coding': ['python', 'pandas']}"
      ]
     },
     "execution_count": 83,
     "metadata": {},
     "output_type": "execute_result"
    }
   ],
   "source": [
    "data1['hobby']"
   ]
  },
  {
   "cell_type": "code",
   "execution_count": 84,
   "metadata": {},
   "outputs": [
    {
     "data": {
      "text/plain": [
       "['python', 'pandas']"
      ]
     },
     "execution_count": 84,
     "metadata": {},
     "output_type": "execute_result"
    }
   ],
   "source": [
    "data1['hobby']['coding']"
   ]
  },
  {
   "cell_type": "code",
   "execution_count": 86,
   "metadata": {},
   "outputs": [
    {
     "data": {
      "text/plain": [
       "'pandas'"
      ]
     },
     "execution_count": 86,
     "metadata": {},
     "output_type": "execute_result"
    }
   ],
   "source": [
    "data1['hobby']['coding'][1]"
   ]
  },
  {
   "cell_type": "markdown",
   "metadata": {},
   "source": [
    "<div class=\"alert alert-block\" style=\"border: 1px solid #FFB300;background-color:#F9FBE7;\">\n",
    "<font size=\"4em\" style=\"font-weight:bold;color:#3f8dbf;\">연습문제 (직접 해보신 후에, 영상으로 확인하세요!)</font><br>\n",
    "'data', 'Dave', 'fun', 'coding', 'analysis' 를 저장하는 튜플을 만들고 첫 번째 튜플값과 마지막 번째 튜플값을 출력하세요.<br>\n",
    "예:<br>\n",
    "    data<br>\n",
    "    analysis<br>\n",
    "</div>"
   ]
  },
  {
   "cell_type": "code",
   "execution_count": 91,
   "metadata": {},
   "outputs": [
    {
     "name": "stdout",
     "output_type": "stream",
     "text": [
      "data analysis\n"
     ]
    }
   ],
   "source": [
    "data1 = ('data', 'Dave', 'fun', 'coding', 'analysis')\n",
    "print (data1[0], data1[4])"
   ]
  },
  {
   "cell_type": "markdown",
   "metadata": {},
   "source": [
    "<div class=\"alert alert-block\" style=\"border: 1px solid #FFB300;background-color:#F9FBE7;\">\n",
    "<font size=\"4em\" style=\"font-weight:bold;color:#3f8dbf;\">연습문제 (직접 해보신 후에, 영상으로 확인하세요!)</font><br>\n",
    "비어 있는 리스트, 딕셔너리 변수를 하나씩 각각 만들고, 각 데이터 타입을 출력해보세요<br>\n",
    "</div>"
   ]
  },
  {
   "cell_type": "code",
   "execution_count": 92,
   "metadata": {},
   "outputs": [
    {
     "name": "stdout",
     "output_type": "stream",
     "text": [
      "<class 'list'> <class 'dict'>\n"
     ]
    }
   ],
   "source": [
    "data1 = list()\n",
    "data2 = dict()\n",
    "print (type(data1), type(data2))"
   ]
  },
  {
   "cell_type": "markdown",
   "metadata": {},
   "source": [
    "<div class=\"alert alert-block\" style=\"border: 1px solid #FFB300;background-color:#F9FBE7;\">\n",
    "<font size=\"4em\" style=\"font-weight:bold;color:#3f8dbf;\">연습문제 (직접 해보신 후에, 영상으로 확인하세요!)</font><br>\n",
    "다음 영어 사전 데이터를 딕셔너리 변수로 만들고, 사전 데이터 전체와, key 리스트, value 리스트를 각각 출력하세요.\n",
    "<br>\n",
    "\n",
    "\n",
    "<table>\n",
    "<thead>\n",
    "<tr>\n",
    "<th>영어단어</th>\n",
    "<th>의미</th>\n",
    "</tr>\n",
    "</thead>\n",
    "<tbody>\n",
    "<tr>\n",
    "<td>baby</td>\n",
    "<td>아기</td>\n",
    "</tr>\n",
    "<tr>\n",
    "<td>bad</td>\n",
    "<td>가방</td>\n",
    "</tr>\n",
    "<tr>\n",
    "<td>ball</td>\n",
    "<td>공</td>\n",
    "</tr>\n",
    "</tbody>\n",
    "</table>\n",
    "\n",
    "결과: <br>\n",
    "{'baby': '아기', 'bad': '가방', 'ball': '공'} <br>\n",
    "dict_keys(['baby', 'bad', 'ball'])<br>\n",
    "dict_values(['아기', '가방', '공'])\n",
    "    </div>"
   ]
  },
  {
   "cell_type": "code",
   "execution_count": 96,
   "metadata": {},
   "outputs": [
    {
     "name": "stdout",
     "output_type": "stream",
     "text": [
      "{'baby': '아기', 'bad': '가방', 'ball': '공'}\n",
      "dict_keys(['baby', 'bad', 'ball'])\n",
      "dict_values(['아기', '가방', '공'])\n"
     ]
    }
   ],
   "source": [
    "data1 = {'baby': '아기', 'bad': '가방', 'ball': '공'}\n",
    "print (data1)\n",
    "print (data1.keys())\n",
    "print (data1.values())"
   ]
  },
  {
   "cell_type": "markdown",
   "metadata": {},
   "source": [
    "<div class=\"alert alert-block\" style=\"border: 1px solid #FFB300;background-color:#F9FBE7;\">\n",
    "<font size=\"4em\" style=\"font-weight:bold;color:#3f8dbf;\">연습문제 (직접 해보신 후에, 영상으로 확인하세요!)</font><br>\n",
    "다음 영어 사전 데이터를 딕셔너리 변수로 만들고, 반복문을 사용해서, key 와 value 를 결과와 같이 출력하세요 <br>\n",
    "\n",
    "힌트: for item in data1.keys(): 와 같이 작성하면, item 에 각 key 가 들어감\n",
    " <br>\n",
    "\n",
    "<table>\n",
    "<thead>\n",
    "<tr>\n",
    "<th>영어단어</th>\n",
    "<th>의미</th>\n",
    "</tr>\n",
    "</thead>\n",
    "<tbody>\n",
    "<tr>\n",
    "<td>baby</td>\n",
    "<td>아기</td>\n",
    "</tr>\n",
    "<tr>\n",
    "<td>bad</td>\n",
    "<td>가방</td>\n",
    "</tr>\n",
    "<tr>\n",
    "<td>ball</td>\n",
    "<td>공</td>\n",
    "</tr>\n",
    "</tbody>\n",
    "</table>\n",
    "\n",
    "결과: <br>\n",
    "baby : 아기 <br>\n",
    "bad : 가방 <br>\n",
    "ball : 공\n",
    "    </div>"
   ]
  },
  {
   "cell_type": "code",
   "execution_count": 99,
   "metadata": {},
   "outputs": [
    {
     "name": "stdout",
     "output_type": "stream",
     "text": [
      "baby : 아기\n",
      "bad : 가방\n",
      "ball : 공\n"
     ]
    }
   ],
   "source": [
    "data1 = {'baby': '아기', 'bad': '가방', 'ball': '공'}\n",
    "for item in data1.keys():\n",
    "    print (item, ':', data1[item])"
   ]
  },
  {
   "cell_type": "markdown",
   "metadata": {},
   "source": [
    "<div class=\"alert alert-block\" style=\"border: 1px solid #FFB300;background-color:#F9FBE7;\">\n",
    "<font size=\"4em\" style=\"font-weight:bold;color:#3f8dbf;\">연습문제 (직접 해보신 후에, 영상으로 확인하세요!)</font><br>\n",
    "\n",
    "다음 data1 딕셔너리 변수를 선언하고, 홈페이지, 이름(name), 강의(lectures) 맨 처음 아이템을 다음과 같이 출력하세요\n",
    "\n",
    "```python\n",
    "data1 = {'details': {'생년월일': '1999-01-01',\n",
    "                   '성별': '남',\n",
    "                   '직업': '디지털노마드',\n",
    "                   '홈페이지': 'https://www.fun-coding.org'},\n",
    " 'name': 'Dave Lee',\n",
    " 'lectures': ['데이터분석', '자동화', '풀스택', '크롤링']}\n",
    "```\n",
    "\n",
    "* 출력 예:<br>\n",
    "이름 : Dave Lee<br>\n",
    "홈페이지 : https://www.fun-coding.org <br>\n",
    "강의 : 데이터분석 <br>\n",
    "</div>"
   ]
  },
  {
   "cell_type": "code",
   "execution_count": 100,
   "metadata": {},
   "outputs": [],
   "source": [
    "data1 = {'details': {'생년월일': '1999-01-01',\n",
    "                   '성별': '남',\n",
    "                   '직업': '디지털노마드',\n",
    "                   '홈페이지': 'https://www.fun-coding.org'},\n",
    " 'name': 'Dave Lee',\n",
    " 'lectures': ['데이터분석', '자동화', '풀스택', '크롤링']}"
   ]
  },
  {
   "cell_type": "code",
   "execution_count": 101,
   "metadata": {},
   "outputs": [
    {
     "data": {
      "text/plain": [
       "{'생년월일': '1999-01-01',\n",
       " '성별': '남',\n",
       " '직업': '디지털노마드',\n",
       " '홈페이지': 'https://www.fun-coding.org'}"
      ]
     },
     "execution_count": 101,
     "metadata": {},
     "output_type": "execute_result"
    }
   ],
   "source": [
    "data1['details']"
   ]
  },
  {
   "cell_type": "code",
   "execution_count": 102,
   "metadata": {},
   "outputs": [
    {
     "data": {
      "text/plain": [
       "'https://www.fun-coding.org'"
      ]
     },
     "execution_count": 102,
     "metadata": {},
     "output_type": "execute_result"
    }
   ],
   "source": [
    "data1['details']['홈페이지']"
   ]
  },
  {
   "cell_type": "code",
   "execution_count": 103,
   "metadata": {},
   "outputs": [
    {
     "data": {
      "text/plain": [
       "'Dave Lee'"
      ]
     },
     "execution_count": 103,
     "metadata": {},
     "output_type": "execute_result"
    }
   ],
   "source": [
    "data1['name']"
   ]
  },
  {
   "cell_type": "code",
   "execution_count": 104,
   "metadata": {},
   "outputs": [
    {
     "data": {
      "text/plain": [
       "['데이터분석', '자동화', '풀스택', '크롤링']"
      ]
     },
     "execution_count": 104,
     "metadata": {},
     "output_type": "execute_result"
    }
   ],
   "source": [
    "data1['lectures']"
   ]
  },
  {
   "cell_type": "code",
   "execution_count": 105,
   "metadata": {},
   "outputs": [
    {
     "data": {
      "text/plain": [
       "'데이터분석'"
      ]
     },
     "execution_count": 105,
     "metadata": {},
     "output_type": "execute_result"
    }
   ],
   "source": [
    "data1['lectures'][0]"
   ]
  },
  {
   "cell_type": "code",
   "execution_count": 107,
   "metadata": {},
   "outputs": [
    {
     "name": "stdout",
     "output_type": "stream",
     "text": [
      "이름 : Dave Lee\n",
      "홈페이지 : https://www.fun-coding.org\n",
      "강의 : 데이터분석\n"
     ]
    }
   ],
   "source": [
    "print ('이름 :', data1['name'])\n",
    "print ('홈페이지 :', data1['details']['홈페이지'])\n",
    "print ('강의 :', data1['lectures'][0])"
   ]
  }
 ],
 "metadata": {
  "kernelspec": {
   "display_name": "Python 3 (ipykernel)",
   "language": "python",
   "name": "python3"
  },
  "language_info": {
   "codemirror_mode": {
    "name": "ipython",
    "version": 3
   },
   "file_extension": ".py",
   "mimetype": "text/x-python",
   "name": "python",
   "nbconvert_exporter": "python",
   "pygments_lexer": "ipython3",
   "version": "3.11.5"
  }
 },
 "nbformat": 4,
 "nbformat_minor": 4
}
