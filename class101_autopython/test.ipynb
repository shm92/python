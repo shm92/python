{
 "cells": [
  {
   "cell_type": "code",
   "execution_count": null,
   "id": "c59a9657-70a7-4df4-832e-cb4010949b58",
   "metadata": {},
   "outputs": [],
   "source": [
    "above / bellow "
   ]
  },
  {
   "cell_type": "code",
   "execution_count": 1,
   "id": "502cb8af-0efe-4f45-a348-50ce75f28bad",
   "metadata": {
    "tags": []
   },
   "outputs": [
    {
     "name": "stdout",
     "output_type": "stream",
     "text": [
      "3\n"
     ]
    }
   ],
   "source": [
    "print (1+2)"
   ]
  },
  {
   "cell_type": "code",
   "execution_count": 1,
   "id": "737d9d10-8963-469f-b9dd-867b3c0348f8",
   "metadata": {},
   "outputs": [
    {
     "name": "stdout",
     "output_type": "stream",
     "text": [
      "4\n"
     ]
    }
   ],
   "source": [
    "print (1+3)"
   ]
  },
  {
   "cell_type": "code",
   "execution_count": null,
   "id": "404d9d37",
   "metadata": {},
   "outputs": [],
   "source": []
  }
 ],
 "metadata": {
  "kernelspec": {
   "display_name": "Python 3 (ipykernel)",
   "language": "python",
   "name": "python3"
  },
  "language_info": {
   "codemirror_mode": {
    "name": "ipython",
    "version": 3
   },
   "file_extension": ".py",
   "mimetype": "text/x-python",
   "name": "python",
   "nbconvert_exporter": "python",
   "pygments_lexer": "ipython3",
   "version": "3.11.5"
  }
 },
 "nbformat": 4,
 "nbformat_minor": 5
}
